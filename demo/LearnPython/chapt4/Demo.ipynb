{
 "cells": [
  {
   "cell_type": "code",
   "execution_count": 1,
   "id": "839ac5db",
   "metadata": {},
   "outputs": [
    {
     "data": {
      "text/plain": [
       "7.02"
      ]
     },
     "execution_count": 1,
     "metadata": {},
     "output_type": "execute_result"
    }
   ],
   "source": [
    "3*2.34"
   ]
  },
  {
   "cell_type": "code",
   "execution_count": 2,
   "id": "3633d6aa",
   "metadata": {},
   "outputs": [
    {
     "data": {
      "text/plain": [
       "'7.02'"
      ]
     },
     "execution_count": 2,
     "metadata": {},
     "output_type": "execute_result"
    }
   ],
   "source": [
    "repr(3*2.34)"
   ]
  },
  {
   "cell_type": "code",
   "execution_count": null,
   "id": "7954e1dc",
   "metadata": {},
   "outputs": [],
   "source": [
    "list()"
   ]
  }
 ],
 "metadata": {
  "kernelspec": {
   "display_name": "Python 3 (ipykernel)",
   "language": "python",
   "name": "python3"
  },
  "language_info": {
   "codemirror_mode": {
    "name": "ipython",
    "version": 3
   },
   "file_extension": ".py",
   "mimetype": "text/x-python",
   "name": "python",
   "nbconvert_exporter": "python",
   "pygments_lexer": "ipython3",
   "version": "3.11.5"
  }
 },
 "nbformat": 4,
 "nbformat_minor": 5
}
